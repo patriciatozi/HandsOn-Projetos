{
  "nbformat": 4,
  "nbformat_minor": 0,
  "metadata": {
    "colab": {
      "name": "HandsOn_Projetos_DataGirls.ipynb",
      "provenance": [],
      "authorship_tag": "ABX9TyN0uHdPYzI8WwrTyODPvLEz"
    },
    "kernelspec": {
      "name": "python3",
      "display_name": "Python 3"
    },
    "language_info": {
      "name": "python"
    }
  },
  "cells": [
    {
      "cell_type": "markdown",
      "metadata": {
        "id": "q1bOL4l4dRTr"
      },
      "source": [
        "# **1º Hands On - Titanic (parte 1)**\n",
        "\n",
        " \n",
        "\n",
        "*   Arquivo \"instruções.pdf\" contém todas as informações necessárias para realizar o projeto; \n",
        "*   O conjunto á ser trabalhado inicialmente é o train.csv; \n",
        "*   Prazo de 40 dias para entrega e discussão dos resultados (18/03 até 28/04).\n",
        "*   Referência: dados retirados do Kaggle - https://www.kaggle.com/c/titanic "
      ]
    },
    {
      "cell_type": "code",
      "metadata": {
        "id": "uwJ1B-BfdCTT"
      },
      "source": [
        "# Libraries importation\n",
        "import pandas as pd"
      ],
      "execution_count": 1,
      "outputs": []
    },
    {
      "cell_type": "code",
      "metadata": {
        "id": "7Z0889MXeqCo"
      },
      "source": [
        ""
      ],
      "execution_count": null,
      "outputs": []
    }
  ]
}